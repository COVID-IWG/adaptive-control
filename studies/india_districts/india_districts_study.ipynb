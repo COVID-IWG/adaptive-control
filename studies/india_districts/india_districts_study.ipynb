{
  "nbformat": 4,
  "nbformat_minor": 0,
  "metadata": {
    "colab": {
      "name": "india_districts_study.ipynb",
      "provenance": [],
      "collapsed_sections": []
    },
    "kernelspec": {
      "name": "python3",
      "display_name": "Python 3"
    }
  },
  "cells": [
    {
      "cell_type": "code",
      "metadata": {
        "id": "_E_gmbLIEcYc",
        "colab_type": "code",
        "colab": {}
      },
      "source": [
        "#Colab Notebook: https://colab.research.google.com/drive/16a5d65geNrzRAlFR6xcUv3QfXV__Qyco#scrollTo=_E_gmbLIEcYc\n",
        "#GitHub Repo: https://github.com/mansueto-institute/adaptive-lockdown/tree/master/studies/bihar-colab\n",
        "#GDrive GitHub folder: https://drive.google.com/drive/folders/1jfJFMOP4LuSAaJo1f_bTR6RzACczVLbE\n",
        "#GDrive Data folder: https://drive.google.com/drive/folders/1HZwN1zO7LZrjF8ip8czdzmlA1VqLOcUg\n",
        "\n",
        "%%capture\n",
        "!pip install --upgrade statsmodels \n",
        "!pip install geopandas"
      ],
      "execution_count": 0,
      "outputs": []
    },
    {
      "cell_type": "code",
      "metadata": {
        "id": "sUBQ9Y4ZEhBb",
        "colab_type": "code",
        "outputId": "7c1e101d-72ba-49e7-b1e3-440f62808678",
        "colab": {
          "base_uri": "https://localhost:8080/",
          "height": 122
        }
      },
      "source": [
        "import csv\n",
        "import numpy as np\n",
        "from scipy.spatial import distance_matrix\n",
        "import matplotlib.pyplot as plt \n",
        "from pathlib import Path\n",
        "from typing import Dict, Optional, Sequence, Tuple\n",
        "import statsmodels as sm\n",
        "from datetime import datetime\n",
        "import pandas as pd\n",
        "from os.path import join  \n",
        "from google.colab import drive \n",
        "drive.mount(\"/content/drive\", force_remount=True)  # Mount the Google Drive at /content/drive\n",
        "\n",
        "%matplotlib inline"
      ],
      "execution_count": 0,
      "outputs": [
        {
          "output_type": "stream",
          "text": [
            "Go to this URL in a browser: https://accounts.google.com/o/oauth2/auth?client_id=947318989803-6bn6qk8qdgf4n4g3pfee6491hc0brc4i.apps.googleusercontent.com&redirect_uri=urn%3aietf%3awg%3aoauth%3a2.0%3aoob&response_type=code&scope=email%20https%3a%2f%2fwww.googleapis.com%2fauth%2fdocs.test%20https%3a%2f%2fwww.googleapis.com%2fauth%2fdrive%20https%3a%2f%2fwww.googleapis.com%2fauth%2fdrive.photos.readonly%20https%3a%2f%2fwww.googleapis.com%2fauth%2fpeopleapi.readonly\n",
            "\n",
            "Enter your authorization code:\n",
            "··········\n",
            "Mounted at /content/drive\n"
          ],
          "name": "stdout"
        }
      ]
    },
    {
      "cell_type": "code",
      "metadata": {
        "id": "6NieqTBSMkFM",
        "colab_type": "code",
        "colab": {}
      },
      "source": [
        "## USER INPUT CELL\n",
        "# Data folder on Google Drive\n",
        "DATA_PATH = '/content/drive/My Drive/COVID-India/Districts' \n",
        "!mkdir -p \"{DATA_PATH}\"\n",
        "# Generate a read-access token https://github.com/settings/tokens\n",
        "GIT_TOKEN = '' \n"
      ],
      "execution_count": 0,
      "outputs": []
    },
    {
      "cell_type": "code",
      "metadata": {
        "id": "sZVJckUODyRG",
        "colab_type": "code",
        "colab": {}
      },
      "source": [
        "# Root and repo path\n",
        "ROOT_PATH = \"/content/drive/My Drive/\"\n",
        "REPO_PATH = \"/GitHub/\" \n",
        "\n",
        "# Set up Git credentials\n",
        "GIT_ORG = \"mansueto-institute\" \n",
        "GIT_REPOSITORY = \"adaptive-lockdown\" \n"
      ],
      "execution_count": 0,
      "outputs": []
    },
    {
      "cell_type": "code",
      "metadata": {
        "id": "vvhcBnWcElac",
        "colab_type": "code",
        "outputId": "54794ea9-9881-40e9-e7c2-123d4d4ad8ed",
        "colab": {
          "base_uri": "https://localhost:8080/",
          "height": 51
        }
      },
      "source": [
        "# Clone repo to My Drive\n",
        "GIT_PATH = \"https://\" + GIT_TOKEN + \"@github.com/\" + GIT_ORG + \"/\" + GIT_REPOSITORY + \".git\"\n",
        "!mkdir -p \"{ROOT_PATH}{REPO_PATH}\"\n",
        "%cd \"{ROOT_PATH}{REPO_PATH}\" \n",
        "!git clone \"{GIT_PATH}\" \n"
      ],
      "execution_count": 0,
      "outputs": [
        {
          "output_type": "stream",
          "text": [
            "/content/drive/My Drive/GitHub\n",
            "fatal: destination path 'adaptive-lockdown' already exists and is not an empty directory.\n"
          ],
          "name": "stdout"
        }
      ]
    },
    {
      "cell_type": "code",
      "metadata": {
        "id": "n3Kry52NEo74",
        "colab_type": "code",
        "outputId": "f5aac598-37f8-48d4-8147-0d2f23cc0314",
        "colab": {
          "base_uri": "https://localhost:8080/",
          "height": 221
        }
      },
      "source": [
        "# Update repo if it already exists\n",
        "#%%capture\n",
        "%cd \"{ROOT_PATH}{REPO_PATH}{GIT_REPOSITORY}\"\n",
        "!git pull \n",
        "%ls\n"
      ],
      "execution_count": 0,
      "outputs": [
        {
          "output_type": "stream",
          "text": [
            "/content/drive/My Drive/GitHub/adaptive-lockdown\n",
            "remote: Enumerating objects: 16, done.\u001b[K\n",
            "remote: Counting objects: 100% (16/16), done.\u001b[K\n",
            "remote: Compressing objects: 100% (6/6), done.\u001b[K\n",
            "remote: Total 24 (delta 10), reused 16 (delta 10), pack-reused 8\n",
            "Unpacking objects: 100% (24/24), done.\n",
            "From https://github.com/mansueto-institute/adaptive-lockdown\n",
            " * [new branch]      india-districts-update -> origin/india-districts-update\n",
            "   5d2b44e..eac3439  studies/maharashtra-set-up -> origin/studies/maharashtra-set-up\n",
            "Already up to date.\n",
            "\u001b[0m\u001b[01;34madaptive\u001b[0m/           \u001b[01;34mdocs\u001b[0m/    README.md         setup.py  \u001b[01;34mstudies\u001b[0m/\n",
            "\u001b[01;34madaptive-lockdown\u001b[0m/  LICENSE  requirements.txt  \u001b[01;34msrc\u001b[0m/      toy_example.py\n"
          ],
          "name": "stdout"
        }
      ]
    },
    {
      "cell_type": "code",
      "metadata": {
        "id": "Bilog-ymEqsi",
        "colab_type": "code",
        "colab": {}
      },
      "source": [
        "# Install repo into Colab notebook \n",
        "%%capture\n",
        "!pip install . \n"
      ],
      "execution_count": 0,
      "outputs": []
    },
    {
      "cell_type": "code",
      "metadata": {
        "id": "LpRBhhiKcZPA",
        "colab_type": "code",
        "outputId": "0c763764-4a05-4df5-9e5f-d3a955c0376f",
        "colab": {
          "base_uri": "https://localhost:8080/",
          "height": 34
        }
      },
      "source": [
        "# Import modules from repo\n",
        "from adaptive.estimators import rollingOLS \n",
        "from adaptive.model import Model, ModelUnit\n",
        "from adaptive.model import MigrationSpikeModel, Model, ModelUnit\n",
        "from adaptive.plots import gantt_chart, plot_simulation_range\n",
        "from adaptive.policy import simulate_adaptive_control, simulate_lockdown\n",
        "from adaptive.policy import AUC, simulate_adaptive_control, simulate_lockdown\n",
        "from adaptive.utils import cwd, days, fmt_params, weeks\n"
      ],
      "execution_count": 0,
      "outputs": [
        {
          "output_type": "display_data",
          "data": {
            "text/plain": [
              "<Figure size 432x288 with 0 Axes>"
            ]
          },
          "metadata": {
            "tags": []
          }
        }
      ]
    },
    {
      "cell_type": "code",
      "metadata": {
        "id": "AGS83m-7KLgZ",
        "colab_type": "code",
        "outputId": "2557adbb-afd9-4655-c889-4b7f2559c6e2",
        "colab": {
          "base_uri": "https://localhost:8080/",
          "height": 68
        }
      },
      "source": [
        "## USER INPUT CELL\n",
        "# Set to study folder in GitHub repo containing custom functions\n",
        "%cd \"{ROOT_PATH}{REPO_PATH}{GIT_REPOSITORY}/studies/india_districts\" \n",
        "%ls\n",
        "# Import modules from study\n",
        "import etl\n",
        "import lockdown_evaluation\n"
      ],
      "execution_count": 0,
      "outputs": [
        {
          "output_type": "stream",
          "text": [
            "/content/drive/My Drive/GitHub/adaptive-lockdown/studies/india_districts\n",
            "etl.py  lockdown_evaluation.py  raw_data1.csv  raw_data3.csv\n",
            "\u001b[0m\u001b[01;34mfigs\u001b[0m/   \u001b[01;34m__pycache__\u001b[0m/            raw_data2.csv  raw_data4.csv\n"
          ],
          "name": "stdout"
        }
      ]
    },
    {
      "cell_type": "code",
      "metadata": {
        "id": "o1mb8cnfb0z0",
        "colab_type": "code",
        "outputId": "fb4f1125-b517-4fcd-cc5b-212788a9b87d",
        "colab": {
          "base_uri": "https://localhost:8080/",
          "height": 34
        }
      },
      "source": [
        "%cd \"{DATA_PATH}\" "
      ],
      "execution_count": 0,
      "outputs": [
        {
          "output_type": "stream",
          "text": [
            "/content/drive/My Drive/COVID-India/Districts\n"
          ],
          "name": "stdout"
        }
      ]
    },
    {
      "cell_type": "code",
      "metadata": {
        "id": "MPmoTOQlcGfh",
        "colab_type": "code",
        "colab": {}
      },
      "source": [
        "# model details \n",
        "gamma      = 0.2\n",
        "prevalence = 1\n",
        "total_time = 90 * days \n",
        "release_date = pd.to_datetime(\"May 31, 2020\")\n",
        "lockdown_period = (release_date - pd.to_datetime(\"today\")).days\n",
        "\n",
        "states = [\"Telangana\", \"Maharashtra\", \"Andhra Pradesh\", \"Tamil Nadu\", \"Madhya Pradesh\", \"Punjab\", \"Gujarat\", \"Kerala\"][:4]\n",
        "\n",
        "# use gravity matrix for states after 2001 census \n",
        "new_state_data_paths = { \n",
        "    \"Telangana\": (\"/content/drive/My Drive/COVID-India/telangana.json\", \"/content/drive/My Drive/COVID-India/telangana_pop.csv\")\n",
        "}\n",
        "\n",
        "# define data versions for api files\n",
        "paths = { \"v3\": [\"raw_data1.csv\", \"raw_data2.csv\"], \"v4\": [\"raw_data3.csv\", \"raw_data4.csv\"] } \n",
        "\n",
        "# download data from india covid 19 api\n",
        "for f in paths['v3'] + paths['v4']:\n",
        "  etl.download_data_gdrive(DATA_PATH, f)\n",
        "\n",
        "# run rolling regressions on historical national case data \n",
        "dfn = etl.load_all_data(\n",
        "    v3_paths = paths['v3'], \n",
        "    v4_paths = paths['v4']\n",
        ")\n",
        "data_recency = str(dfn[\"date_announced\"].max()).split()[0]\n",
        "tsn = etl.get_time_series(dfn)\n",
        "grn = adaptive.estimators.rollingOLS(tsn, window = 5, infectious_period = 1/gamma)\n",
        "\n",
        "# disaggregate down to states\n",
        "dfs = {state: dfn[dfn[\"detected_state\"] == state] for state in states}\n",
        "tss = {state: etl.get_time_series(cases) for (state, cases) in dfs.items()}\n",
        "for (_, ts) in tss.items():\n",
        "    ts['Hospitalized'] *= prevalence\n",
        "\n",
        "grs = {state: adaptive.estimators.rollingOLS(timeseries, window = 5, infectious_period = 1/gamma) for (state, timeseries) in tss.items() if len(timeseries) > 5}\n",
        "\n",
        "# voluntary and mandatory reproductive numbers\n",
        "Rvn = np.mean(grn[\"2020-03-24\":\"2020-03-31\"].R)\n",
        "Rmn = np.mean(grn[\"2020-04-01\":].R)\n",
        "Rvs = {s: np.mean(grs[s][\"2020-03-24\":\"2020-03-31\"].R) if s in grs else Rvn for s in states}\n",
        "Rms = {s: np.mean(grs[s][\"2020-04-01\":].R)             if s in grs else Rmn for s in states}\n",
        "\n",
        "# voluntary and mandatory distancing rates \n",
        "Bvs = {s: R * gamma for (s, R) in Rvs.items()}\n",
        "Bms = {s: R * gamma for (s, R) in Rms.items()}\n",
        "\n",
        "migration_matrices = etl.district_migration_matrices(\"/content/drive/My Drive/COVID-India/Migration Matrix - District.csv\", states = states)\n",
        "\n",
        "# seed range \n",
        "si, sf = 0, 1000\n",
        "\n",
        "for state in states: \n",
        "    if state in new_state_data_paths.keys():\n",
        "        districts, populations, migrations = adaptive.model.gravity_matrix(*new_state_data_paths[state])\n",
        "    else: \n",
        "        districts, populations, migrations = migration_matrices[state]\n",
        "    df_state = dfs[state]\n",
        "    dfd = {district: df_state[df_state[\"detected_district\"] == district] for district in districts}\n",
        "    tsd = {district: etl.get_time_series(cases) for (district, cases) in dfd.items()}\n",
        "    for (_, ts) in tsd.items():\n",
        "        if 'Hospitalized' in ts:\n",
        "            ts['Hospitalized'] *= prevalence\n",
        "    grd = {district: adaptive.estimators.rollingOLS(timeseries, window = 5, infectious_period = 1/gamma) for (district, timeseries) in tsd.items() if len(timeseries) > 5}\n",
        "\n",
        "    Rv = {district: np.mean(grd[district][\"2020-03-24\":\"2020-03-31\"].R) if district in grd.keys() else Rvs[state] for district in districts}\n",
        "    Rm = {district: np.mean(grd[district][\"2020-04-01\":].R)             if district in grd.keys() else Rms[state] for district in districts}\n",
        "\n",
        "    # # fil in missing values \n",
        "    for mapping, default in ((Rv, Rvs[state]), (Rm, Rms[state])):\n",
        "        for key in mapping:\n",
        "            if np.isnan(mapping[key]):\n",
        "                mapping[key] = default\n",
        " \n",
        " "
      ],
      "execution_count": 0,
      "outputs": []
    }
  ]
}
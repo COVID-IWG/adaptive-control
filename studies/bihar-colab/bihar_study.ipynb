{
  "nbformat": 4,
  "nbformat_minor": 0,
  "metadata": {
    "colab": {
      "name": "bihar_study.ipynb",
      "provenance": [],
      "collapsed_sections": []
    },
    "kernelspec": {
      "name": "python3",
      "display_name": "Python 3"
    }
  },
  "cells": [
    {
      "cell_type": "code",
      "metadata": {
        "id": "_E_gmbLIEcYc",
        "colab_type": "code",
        "colab": {}
      },
      "source": [
        "#Colab Notebook: https://colab.research.google.com/drive/16a5d65geNrzRAlFR6xcUv3QfXV__Qyco#scrollTo=_E_gmbLIEcYc\n",
        "#GitHub Repo: https://github.com/mansueto-institute/adaptive-lockdown/tree/master/studies/bihar-colab\n",
        "#GDrive GitHub folder: https://drive.google.com/drive/folders/1jfJFMOP4LuSAaJo1f_bTR6RzACczVLbE\n",
        "#GDrive Data folder: https://drive.google.com/drive/folders/1HZwN1zO7LZrjF8ip8czdzmlA1VqLOcUg\n",
        "\n",
        "%%capture\n",
        "!pip install --upgrade statsmodels \n",
        "!pip install geopandas"
      ],
      "execution_count": 0,
      "outputs": []
    },
    {
      "cell_type": "code",
      "metadata": {
        "id": "sUBQ9Y4ZEhBb",
        "colab_type": "code",
        "colab": {
          "base_uri": "https://localhost:8080/",
          "height": 34
        },
        "outputId": "5396df98-cd9d-4d76-aa9a-9d9538052336"
      },
      "source": [
        "import csv\n",
        "import numpy as np\n",
        "from scipy.spatial import distance_matrix\n",
        "import matplotlib.pyplot as plt \n",
        "from pathlib import Path\n",
        "from typing import Dict, Optional, Sequence, Tuple\n",
        "import statsmodels as sm\n",
        "from datetime import datetime\n",
        "import pandas as pd\n",
        "from os.path import join  \n",
        "from google.colab import drive \n",
        "drive.mount(\"/content/drive\", force_remount=True)  # Mount the Google Drive at /content/drive"
      ],
      "execution_count": 2,
      "outputs": [
        {
          "output_type": "stream",
          "text": [
            "Mounted at /content/drive\n"
          ],
          "name": "stdout"
        }
      ]
    },
    {
      "cell_type": "code",
      "metadata": {
        "id": "6NieqTBSMkFM",
        "colab_type": "code",
        "colab": {}
      },
      "source": [
        "## USER INPUT CELL\n",
        "# Data folder on Google Drive\n",
        "DATA_PATH = '/content/drive/My Drive/COVID-India/Bihar' \n",
        "# Generate a read-access token https://github.com/settings/tokens\n",
        "GIT_TOKEN = '' \n"
      ],
      "execution_count": 0,
      "outputs": []
    },
    {
      "cell_type": "code",
      "metadata": {
        "id": "sZVJckUODyRG",
        "colab_type": "code",
        "colab": {}
      },
      "source": [
        "# Root and repo path\n",
        "ROOT_PATH = \"/content/drive/My Drive/\"\n",
        "REPO_PATH = \"/GitHub/\" \n",
        "\n",
        "# Set up Git credentials\n",
        "GIT_ORG = \"mansueto-institute\" \n",
        "GIT_REPOSITORY = \"adaptive-lockdown\" "
      ],
      "execution_count": 0,
      "outputs": []
    },
    {
      "cell_type": "code",
      "metadata": {
        "id": "vvhcBnWcElac",
        "colab_type": "code",
        "colab": {
          "base_uri": "https://localhost:8080/",
          "height": 51
        },
        "outputId": "8e003f83-e417-4a87-bb51-1299c649d9bb"
      },
      "source": [
        "# Clone repo to My Drive\n",
        "GIT_PATH = \"https://\" + GIT_TOKEN + \"@github.com/\" + GIT_ORG + \"/\" + GIT_REPOSITORY + \".git\"\n",
        "!mkdir -p \"{ROOT_PATH}{REPO_PATH}\"\n",
        "%cd \"{ROOT_PATH}{REPO_PATH}\" \n",
        "!git clone \"{GIT_PATH}\" # clone the github repository"
      ],
      "execution_count": 5,
      "outputs": [
        {
          "output_type": "stream",
          "text": [
            "/content/drive/My Drive/GitHub\n",
            "fatal: destination path 'adaptive-lockdown' already exists and is not an empty directory.\n"
          ],
          "name": "stdout"
        }
      ]
    },
    {
      "cell_type": "code",
      "metadata": {
        "id": "n3Kry52NEo74",
        "colab_type": "code",
        "colab": {}
      },
      "source": [
        "# Update repo if it already exists\n",
        "%%capture\n",
        "%cd \"{ROOT_PATH}{REPO_PATH}{GIT_REPOSITORY}\"\n",
        "!git pull\n",
        "%ls"
      ],
      "execution_count": 0,
      "outputs": []
    },
    {
      "cell_type": "code",
      "metadata": {
        "id": "Bilog-ymEqsi",
        "colab_type": "code",
        "colab": {}
      },
      "source": [
        "# Install repo into Colab notebook \n",
        "%%capture\n",
        "!pip install . "
      ],
      "execution_count": 0,
      "outputs": []
    },
    {
      "cell_type": "code",
      "metadata": {
        "id": "LpRBhhiKcZPA",
        "colab_type": "code",
        "colab": {
          "base_uri": "https://localhost:8080/",
          "height": 34
        },
        "outputId": "ab3a9e32-a739-44ca-96ca-95fdb1cb5943"
      },
      "source": [
        "# Import modules from repo\n",
        "from adaptive.estimators import rollingOLS\n",
        "from adaptive.model import Model, ModelUnit\n",
        "from adaptive.model import MigrationSpikeModel, Model, ModelUnit\n",
        "from adaptive.plots import gantt_chart, plot_simulation_range\n",
        "from adaptive.policy import simulate_adaptive_control, simulate_lockdown\n",
        "from adaptive.policy import AUC, simulate_adaptive_control, simulate_lockdown\n",
        "from adaptive.utils import cwd, days, fmt_params, weeks"
      ],
      "execution_count": 8,
      "outputs": [
        {
          "output_type": "display_data",
          "data": {
            "text/plain": [
              "<Figure size 432x288 with 0 Axes>"
            ]
          },
          "metadata": {
            "tags": []
          }
        }
      ]
    },
    {
      "cell_type": "code",
      "metadata": {
        "id": "AGS83m-7KLgZ",
        "colab_type": "code",
        "colab": {
          "base_uri": "https://localhost:8080/",
          "height": 51
        },
        "outputId": "451da684-0746-4375-c1cf-aa2742f0c34d"
      },
      "source": [
        "## USER INPUT CELL\n",
        "# Set to study folder in GitHub repo containing custom functions\n",
        "%cd \"./studies/bihar-colab\" \n",
        "%ls\n",
        "# Import modules from study\n",
        "import etl\n",
        "import bihar_migration_spike"
      ],
      "execution_count": 9,
      "outputs": [
        {
          "output_type": "stream",
          "text": [
            "/content/drive/My Drive/GitHub/adaptive-lockdown/studies/bihar-colab\n",
            "bihar_migration_spike.py  etl.py  params.py  \u001b[0m\u001b[01;34m__pycache__\u001b[0m/\n"
          ],
          "name": "stdout"
        }
      ]
    },
    {
      "cell_type": "code",
      "metadata": {
        "id": "-oxvOk9zK06R",
        "colab_type": "code",
        "colab": {
          "base_uri": "https://localhost:8080/",
          "height": 34
        },
        "outputId": "32647a84-8330-4ccd-9a2c-d12f673c2340"
      },
      "source": [
        "## USER INPUT CELL\n",
        "# Apply functions to data in Google Drive\n",
        "%cd \"{DATA_PATH}\"\n",
        "# Run test function\n",
        "state_cases = etl.load_cases(\"Bihar_Case_data_May18.csv\")"
      ],
      "execution_count": 10,
      "outputs": [
        {
          "output_type": "stream",
          "text": [
            "/content/drive/My Drive/COVID-India/Bihar\n"
          ],
          "name": "stdout"
        }
      ]
    },
    {
      "cell_type": "code",
      "metadata": {
        "id": "TNVcvaVGTQBz",
        "colab_type": "code",
        "colab": {
          "base_uri": "https://localhost:8080/",
          "height": 326
        },
        "outputId": "20790fe3-b4ce-465a-e6a6-38032dc94049"
      },
      "source": [
        "state_cases.head()"
      ],
      "execution_count": 11,
      "outputs": [
        {
          "output_type": "execute_result",
          "data": {
            "text/html": [
              "<div>\n",
              "<style scoped>\n",
              "    .dataframe tbody tr th:only-of-type {\n",
              "        vertical-align: middle;\n",
              "    }\n",
              "\n",
              "    .dataframe tbody tr th {\n",
              "        vertical-align: top;\n",
              "    }\n",
              "\n",
              "    .dataframe thead th {\n",
              "        text-align: right;\n",
              "    }\n",
              "</style>\n",
              "<table border=\"1\" class=\"dataframe\">\n",
              "  <thead>\n",
              "    <tr style=\"text-align: right;\">\n",
              "      <th></th>\n",
              "      <th>sno</th>\n",
              "      <th>case_id</th>\n",
              "      <th>age</th>\n",
              "      <th>gender</th>\n",
              "      <th>district</th>\n",
              "      <th>block</th>\n",
              "      <th>cause_of_sample_collection</th>\n",
              "      <th>present_status</th>\n",
              "      <th>first_test_positive_testing_lab</th>\n",
              "      <th>date_of_first_sample_collection</th>\n",
              "      <th>date_of_positive_test_confirmation</th>\n",
              "      <th>date_of_discharge</th>\n",
              "      <th>date_of_death</th>\n",
              "      <th>case_status</th>\n",
              "    </tr>\n",
              "  </thead>\n",
              "  <tbody>\n",
              "    <tr>\n",
              "      <th>0</th>\n",
              "      <td>1.0</td>\n",
              "      <td>TS-572</td>\n",
              "      <td>38.0</td>\n",
              "      <td>MALE</td>\n",
              "      <td>MUNGER</td>\n",
              "      <td>MUNGER RURAL</td>\n",
              "      <td>TRAVELLED FROM QATAR</td>\n",
              "      <td>DEATH CASE-AIIMS (21.4.20)</td>\n",
              "      <td>RMRI</td>\n",
              "      <td>2020-03-20</td>\n",
              "      <td>2020-03-21</td>\n",
              "      <td>NaT</td>\n",
              "      <td>3/22/2020</td>\n",
              "      <td>Deceased</td>\n",
              "    </tr>\n",
              "    <tr>\n",
              "      <th>1</th>\n",
              "      <td>2.0</td>\n",
              "      <td>TS-571</td>\n",
              "      <td>45.0</td>\n",
              "      <td>FEMALE</td>\n",
              "      <td>PATNA</td>\n",
              "      <td>PATNA URBAN</td>\n",
              "      <td>TRAVELLED FROM NEPAL</td>\n",
              "      <td>DISCHARGED-AIIMS</td>\n",
              "      <td>RMRI</td>\n",
              "      <td>2020-03-20</td>\n",
              "      <td>2020-03-21</td>\n",
              "      <td>2020-03-30</td>\n",
              "      <td>NaN</td>\n",
              "      <td>Recovered</td>\n",
              "    </tr>\n",
              "    <tr>\n",
              "      <th>2</th>\n",
              "      <td>3.0</td>\n",
              "      <td>TS-600</td>\n",
              "      <td>25.0</td>\n",
              "      <td>MALE</td>\n",
              "      <td>PATNA</td>\n",
              "      <td>PHULWARISHARIF</td>\n",
              "      <td>TRAVELLED FROM SCOTLAND</td>\n",
              "      <td>DISCHARGED -NMCH</td>\n",
              "      <td>RMRI</td>\n",
              "      <td>2020-03-21</td>\n",
              "      <td>2020-03-22</td>\n",
              "      <td>2020-04-01</td>\n",
              "      <td>NaN</td>\n",
              "      <td>Recovered</td>\n",
              "    </tr>\n",
              "    <tr>\n",
              "      <th>3</th>\n",
              "      <td>4.0</td>\n",
              "      <td>TS-728</td>\n",
              "      <td>29.0</td>\n",
              "      <td>MALE</td>\n",
              "      <td>PATNA</td>\n",
              "      <td>PATNA URBAN</td>\n",
              "      <td>TRAVELLED FROM INFECTED AREA WITHIN COUNTRY</td>\n",
              "      <td>DISCHARGED -NMCH</td>\n",
              "      <td>RMRI</td>\n",
              "      <td>2020-03-23</td>\n",
              "      <td>2020-03-24</td>\n",
              "      <td>2020-04-02</td>\n",
              "      <td>NaN</td>\n",
              "      <td>Recovered</td>\n",
              "    </tr>\n",
              "    <tr>\n",
              "      <th>4</th>\n",
              "      <td>5.0</td>\n",
              "      <td>TS-857</td>\n",
              "      <td>12.0</td>\n",
              "      <td>MALE</td>\n",
              "      <td>MUNGER</td>\n",
              "      <td>MUNGER URBAN</td>\n",
              "      <td>CONTACT OF SL NO. 1</td>\n",
              "      <td>DISCHARGED - JLNMCH , BHAGALPUR</td>\n",
              "      <td>RMRI</td>\n",
              "      <td>2020-03-24</td>\n",
              "      <td>2020-03-25</td>\n",
              "      <td>2020-04-07</td>\n",
              "      <td>NaN</td>\n",
              "      <td>Recovered</td>\n",
              "    </tr>\n",
              "  </tbody>\n",
              "</table>\n",
              "</div>"
            ],
            "text/plain": [
              "   sno case_id   age  ... date_of_discharge date_of_death case_status\n",
              "0  1.0  TS-572  38.0  ...               NaT     3/22/2020    Deceased\n",
              "1  2.0  TS-571  45.0  ...        2020-03-30           NaN   Recovered\n",
              "2  3.0  TS-600  25.0  ...        2020-04-01           NaN   Recovered\n",
              "3  4.0  TS-728  29.0  ...        2020-04-02           NaN   Recovered\n",
              "4  5.0  TS-857  12.0  ...        2020-04-07           NaN   Recovered\n",
              "\n",
              "[5 rows x 14 columns]"
            ]
          },
          "metadata": {
            "tags": []
          },
          "execution_count": 11
        }
      ]
    },
    {
      "cell_type": "code",
      "metadata": {
        "id": "aB3Z9fi87bvM",
        "colab_type": "code",
        "colab": {}
      },
      "source": [
        "## USER INPUT CELL\n",
        "# Export file to Google Drive folder\n",
        "!mkdir -p \"figs\"\n",
        "figs = \"figs\"\n",
        "state_cases.to_csv('file.csv')\n",
        "!cp file.csv '/content/drive/My Drive/COVID-India/Bihar/figs/'\n"
      ],
      "execution_count": 0,
      "outputs": []
    },
    {
      "cell_type": "code",
      "metadata": {
        "id": "QaqzFgClTS8e",
        "colab_type": "code",
        "colab": {}
      },
      "source": [
        ""
      ],
      "execution_count": 0,
      "outputs": []
    }
  ]
}
